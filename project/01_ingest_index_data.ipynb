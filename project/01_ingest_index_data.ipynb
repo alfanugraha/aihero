{
 "cells": [
  {
   "cell_type": "markdown",
   "id": "1a8e95a6-0ffa-474f-90e5-9643ea89b221",
   "metadata": {},
   "source": [
    "## Import the necessary libraries"
   ]
  },
  {
   "cell_type": "code",
   "execution_count": 2,
   "id": "19d1cc0c-600b-4930-8da3-c48a846ee82a",
   "metadata": {},
   "outputs": [],
   "source": [
    "import io\n",
    "import zipfile\n",
    "import requests\n",
    "import frontmatter"
   ]
  },
  {
   "cell_type": "markdown",
   "id": "ef8a4977-a355-42a1-afad-ef5b6645fcf9",
   "metadata": {},
   "source": [
    "## Complete function"
   ]
  },
  {
   "cell_type": "code",
   "execution_count": 3,
   "id": "201378a5-f5ee-42e1-b669-de242334eac2",
   "metadata": {},
   "outputs": [],
   "source": [
    "def read_repo_data(repo_owner, repo_name):\n",
    "    \"\"\"\n",
    "    Download and parse all markdown files from a GitHub repository.\n",
    "    \n",
    "    Args:\n",
    "        repo_owner: GitHub username or organization\n",
    "        repo_name: Repository name\n",
    "    \n",
    "    Returns:\n",
    "        List of dictionaries containing file content and metadata\n",
    "    \"\"\"\n",
    "    prefix = 'https://codeload.github.com' \n",
    "    url = f'{prefix}/{repo_owner}/{repo_name}/zip/refs/heads/main'\n",
    "    resp = requests.get(url)\n",
    "    \n",
    "    if resp.status_code != 200:\n",
    "        raise Exception(f\"Failed to download repository: {resp.status_code}\")\n",
    "\n",
    "    repository_data = []\n",
    "    zf = zipfile.ZipFile(io.BytesIO(resp.content))\n",
    "    \n",
    "    for file_info in zf.infolist():\n",
    "        filename = file_info.filename\n",
    "        filename_lower = filename.lower()\n",
    "\n",
    "        if not (filename_lower.endswith('.md') \n",
    "            or filename_lower.endswith('.mdx')):\n",
    "            continue\n",
    "    \n",
    "        try:\n",
    "            with zf.open(file_info) as f_in:\n",
    "                content = f_in.read().decode('utf-8', errors='ignore')\n",
    "                post = frontmatter.loads(content)\n",
    "                data = post.to_dict()\n",
    "                data['filename'] = filename\n",
    "                repository_data.append(data)\n",
    "        except Exception as e:\n",
    "            print(f\"Error processing {filename}: {e}\")\n",
    "            continue\n",
    "    \n",
    "    zf.close()\n",
    "    return repository_data\n"
   ]
  },
  {
   "cell_type": "code",
   "execution_count": 4,
   "id": "e6d76106-c46e-4b9a-b83c-5cc025cb4d2f",
   "metadata": {},
   "outputs": [
    {
     "name": "stdout",
     "output_type": "stream",
     "text": [
      "Error processing QGIS-Website-main/content/project/case-studies/italy_cesena.md: while parsing a quoted scalar\n",
      "  in \"<unicode string>\", line 2, column 8\n",
      "found unknown escape character\n",
      "  in \"<unicode string>\", line 2, column 36\n"
     ]
    }
   ],
   "source": [
    "qgis_web = read_repo_data('qgis', 'QGIS-Website')"
   ]
  },
  {
   "cell_type": "code",
   "execution_count": 5,
   "id": "eb46d539-226f-40fe-ab0f-4c8c3e80ebf9",
   "metadata": {},
   "outputs": [
    {
     "name": "stdout",
     "output_type": "stream",
     "text": [
      "QGIS Web documents: 880\n"
     ]
    }
   ],
   "source": [
    "print(f\"QGIS Web documents: {len(qgis_web)}\")"
   ]
  },
  {
   "cell_type": "code",
   "execution_count": null,
   "id": "23d773a7-9a14-4f49-9ce3-ce553704126d",
   "metadata": {},
   "outputs": [],
   "source": []
  }
 ],
 "metadata": {
  "kernelspec": {
   "display_name": "Python 3 (ipykernel)",
   "language": "python",
   "name": "python3"
  },
  "language_info": {
   "codemirror_mode": {
    "name": "ipython",
    "version": 3
   },
   "file_extension": ".py",
   "mimetype": "text/x-python",
   "name": "python",
   "nbconvert_exporter": "python",
   "pygments_lexer": "ipython3",
   "version": "3.12.7"
  }
 },
 "nbformat": 4,
 "nbformat_minor": 5
}
