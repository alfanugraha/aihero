{
 "cells": [
  {
   "cell_type": "markdown",
   "id": "7f0c0f1c-b8a6-451a-8b02-b38f29268dc3",
   "metadata": {},
   "source": [
    "## Import Library"
   ]
  },
  {
   "cell_type": "code",
   "execution_count": 16,
   "id": "62a4748c-f0da-4399-84f3-d3ccd899ad9d",
   "metadata": {},
   "outputs": [],
   "source": [
    "import io\n",
    "import os\n",
    "import zipfile\n",
    "import requests\n",
    "import frontmatter\n",
    "import numpy as np\n",
    "\n",
    "from typing import List, Any\n",
    "from minsearch import Index, VectorSearch\n",
    "from sentence_transformers import SentenceTransformer\n",
    "from tqdm.auto import tqdm\n",
    "\n",
    "import google.generativeai as genai\n",
    "\n",
    "from pydantic_ai import Agent\n",
    "from pydantic_ai.models.google import GoogleModel\n",
    "from pydantic_ai.providers.google import GoogleProvider\n"
   ]
  },
  {
   "cell_type": "markdown",
   "id": "acec65cf-7ff9-4898-8067-4b64aee55f8f",
   "metadata": {},
   "source": [
    "## Define Function"
   ]
  },
  {
   "cell_type": "code",
   "execution_count": 2,
   "id": "891a06c9-351f-4785-b0bc-b0f88b72447f",
   "metadata": {},
   "outputs": [],
   "source": [
    "def read_repo_data(repo_owner, repo_name):\n",
    "    \"\"\"\n",
    "    Download and parse all markdown files from a GitHub repository.\n",
    "    \n",
    "    Args:\n",
    "        repo_owner: GitHub username or organization\n",
    "        repo_name: Repository name\n",
    "    \n",
    "    Returns:\n",
    "        List of dictionaries containing file content and metadata\n",
    "    \"\"\"\n",
    "    prefix = 'https://codeload.github.com' \n",
    "    url = f'{prefix}/{repo_owner}/{repo_name}/zip/refs/heads/main'\n",
    "    resp = requests.get(url)\n",
    "    \n",
    "    if resp.status_code != 200:\n",
    "        raise Exception(f\"Failed to download repository: {resp.status_code}\")\n",
    "\n",
    "    repository_data = []\n",
    "    zf = zipfile.ZipFile(io.BytesIO(resp.content))\n",
    "    \n",
    "    for file_info in zf.infolist():\n",
    "        filename = file_info.filename\n",
    "        filename_lower = filename.lower()\n",
    "\n",
    "        if not (filename_lower.endswith('.md') \n",
    "            or filename_lower.endswith('.mdx')):\n",
    "            continue\n",
    "    \n",
    "        try:\n",
    "            with zf.open(file_info) as f_in:\n",
    "                content = f_in.read().decode('utf-8', errors='ignore')\n",
    "                post = frontmatter.loads(content)\n",
    "                data = post.to_dict()\n",
    "                data['filename'] = filename\n",
    "                repository_data.append(data)\n",
    "        except Exception as e:\n",
    "            print(f\"Error processing {filename}: {e}\")\n",
    "            continue\n",
    "    \n",
    "    zf.close()\n",
    "    return repository_data\n",
    "\n",
    "def sliding_window(seq, size, step):\n",
    "    if size <= 0 or step <= 0:\n",
    "        raise ValueError(\"size and step must be positive\")\n",
    "\n",
    "    n = len(seq)\n",
    "    result = []\n",
    "    for i in range(0, n, step):\n",
    "        chunk = seq[i:i+size]\n",
    "        result.append({'start': i, 'chunk': chunk})\n",
    "        if i + size >= n:\n",
    "            break\n",
    "\n",
    "    return result"
   ]
  },
  {
   "cell_type": "markdown",
   "id": "27c0f317-6d4f-4a47-8534-7301b2512f8e",
   "metadata": {},
   "source": [
    "## Ingest and Index Data"
   ]
  },
  {
   "cell_type": "code",
   "execution_count": 3,
   "id": "8c9681b5-8f82-4197-938a-568742c606d1",
   "metadata": {},
   "outputs": [
    {
     "name": "stdout",
     "output_type": "stream",
     "text": [
      "Error processing QGIS-Website-main/content/project/case-studies/italy_cesena.md: while parsing a quoted scalar\n",
      "  in \"<unicode string>\", line 2, column 8\n",
      "found unknown escape character\n",
      "  in \"<unicode string>\", line 2, column 36\n"
     ]
    }
   ],
   "source": [
    "qgis_web = read_repo_data('qgis', 'QGIS-Website')\n",
    "\n",
    "qgis_chunks = []\n",
    "\n",
    "for doc in qgis_web:\n",
    "    doc_copy = doc.copy()\n",
    "    doc_content = doc_copy.pop('content')\n",
    "    chunks = sliding_window(doc_content, 2000, 1000)\n",
    "    for chunk in chunks:\n",
    "        chunk.update(doc_copy)\n",
    "    qgis_chunks.extend(chunks)"
   ]
  },
  {
   "cell_type": "markdown",
   "id": "684781bd-902e-4574-82a6-efddf0bf0918",
   "metadata": {},
   "source": [
    "## Search"
   ]
  },
  {
   "cell_type": "code",
   "execution_count": 4,
   "id": "cabb3f92-4e37-436e-926d-3e1504446fc1",
   "metadata": {},
   "outputs": [],
   "source": [
    "query = \"How to load raster layer?\""
   ]
  },
  {
   "cell_type": "markdown",
   "id": "13b29656-a1bc-4a6b-8d56-1a908adaba9c",
   "metadata": {},
   "source": [
    "### Text Search"
   ]
  },
  {
   "cell_type": "code",
   "execution_count": 5,
   "id": "21cd59cb-3a99-4528-81ea-f3fd2b90f904",
   "metadata": {},
   "outputs": [
    {
     "data": {
      "text/plain": [
       "<minsearch.minsearch.Index at 0x1fb05f48e30>"
      ]
     },
     "execution_count": 5,
     "metadata": {},
     "output_type": "execute_result"
    }
   ],
   "source": [
    "index = Index(\n",
    "    text_fields=[\"chunk\", \"title\", \"description\", \"filename\"],\n",
    "    keyword_fields=[]\n",
    ")\n",
    "\n",
    "index.fit(qgis_chunks)"
   ]
  },
  {
   "cell_type": "code",
   "execution_count": 6,
   "id": "486f7f07-1988-467f-8fd7-a9c47edd928c",
   "metadata": {},
   "outputs": [
    {
     "data": {
      "text/plain": [
       "[{'start': 5000,\n",
       "  'chunk': '\\n-   The GRASS tool v.to.rast.attribute converts contour elevation lines to raster, taking the contour shapefile, the name of the z field and the raster resolution as input;\\n-   The GRASS tool r.surf.contour generates the elevation model taking as input the rasterized temporary output from previous step and the raster resolution;\\n-   The GDAL tool \"gdaldem\" generates the slope expressed as degrees from the elevation model;\\n-   The GRASS tool r.mapcalculator is used to generate a 1 bit raster identifying areas with slope greater than 15 degrees (this value is coded in the microzonation guidelines, and so it is fixed), using the expression:\\n\\nif(A\\\\>15,1,null())\\n\\nwhere A is the temporary slope raster generated by gdaldem;\\n\\n-   The GDAL tool \"gdal_polygonize\" converts the 1 bit raster to polygons;\\n-   The QGIS tool \"Intersection\" is used to overlay the areas with slope greater than 15 degrees with the chosen intersection layer.\\n\\nThe result is a polygon layer with areas prone to instability due to a slope value greater than 15 degrees, automatically extracted from a thematic map such as a landslides polygon layer (Fig. 3) or a lithological map.\\n\\n<figure>\\n<img src=\"../images/italy_igag3.png\" class=\"align-right\" alt=\"italy_igag3.png\" />\\n<figcaption>(Fig. 3) The model output (in red) shows highly unstable areas extracted from a landslides layer (orange).</figcaption>\\n</figure>\\n\\n## Conclusions\\n\\nThis work clearly demonstrates that open source GIS tools like QGIS, GRASS, GDAL/OGR, can successfully be used for spatial analysis and data processing aimed at first level seismic microzonation studies. In this example work, QGIS has been used as a simplified and unified interface for different high quality GFOSS tools; the Graphical Modeler allows to intuitively construct geoprocessing models that can be easily shared as portable and cross-platform tools that doesn\\\\\\'t require expensive software licenses. The tool leverages the QGIS modeling capabilities to graphically chain different',\n",
       "  'title': 'QGIS geoprocessing model to simplify first level seismic microzonation analysis',\n",
       "  'draft': False,\n",
       "  'HasBanner': False,\n",
       "  'sidebar': True,\n",
       "  'thumbnail': 'images/italy_igag1.png',\n",
       "  'section': 'project',\n",
       "  'type': 'case-study',\n",
       "  'date': datetime.date(2015, 3, 1),\n",
       "  'featured': False,\n",
       "  'archived': True,\n",
       "  'filename': 'QGIS-Website-main/content/project/case-studies/italy_rome.md'},\n",
       " {'start': 4000,\n",
       "  'chunk': 'DAL, QGIS), demonstrating the usefulness of QGIS as a simplified and unified interface for heterogeneous GFOSS (Geospatial Free and Open Source Software) tools (Fig. 1).\\n\\n<figure>\\n<img src=\"../images/italy_igag1.png\" class=\"align-right\" alt=\"italy_igag1.png\" />\\n<figcaption>(Fig. 1) Screenshot from the geoprocessing model.</figcaption>\\n</figure>\\n\\nThe model takes as input (Fig. 2):\\n\\n-   A shapefile of contour lines containing a field with elevation values;\\n-   The name of the field containing elevation values;\\n-   The desired raster resolution in meters for DEM and Slope (default 10);\\n-   A polygon shapefile from which features intersecting areas with slope greater than 15 degrees will be extracted;\\n-   The name of the resulting polygon layer.\\n\\n<figure>\\n<img src=\"../images/italy_igag2.png\" class=\"align-right\" alt=\"italy_igag2.png\" />\\n<figcaption>(Fig. 2) Model input form (left) and execution log (right).</figcaption>\\n</figure>\\n\\nWhen launched, the model performs the following operations:\\n\\n-   The GRASS tool v.to.rast.attribute converts contour elevation lines to raster, taking the contour shapefile, the name of the z field and the raster resolution as input;\\n-   The GRASS tool r.surf.contour generates the elevation model taking as input the rasterized temporary output from previous step and the raster resolution;\\n-   The GDAL tool \"gdaldem\" generates the slope expressed as degrees from the elevation model;\\n-   The GRASS tool r.mapcalculator is used to generate a 1 bit raster identifying areas with slope greater than 15 degrees (this value is coded in the microzonation guidelines, and so it is fixed), using the expression:\\n\\nif(A\\\\>15,1,null())\\n\\nwhere A is the temporary slope raster generated by gdaldem;\\n\\n-   The GDAL tool \"gdal_polygonize\" converts the 1 bit raster to polygons;\\n-   The QGIS tool \"Intersection\" is used to overlay the areas with slope greater than 15 degrees with the chosen intersection layer.\\n\\nThe result is a polygon layer with areas prone to instability ',\n",
       "  'title': 'QGIS geoprocessing model to simplify first level seismic microzonation analysis',\n",
       "  'draft': False,\n",
       "  'HasBanner': False,\n",
       "  'sidebar': True,\n",
       "  'thumbnail': 'images/italy_igag1.png',\n",
       "  'section': 'project',\n",
       "  'type': 'case-study',\n",
       "  'date': datetime.date(2015, 3, 1),\n",
       "  'featured': False,\n",
       "  'archived': True,\n",
       "  'filename': 'QGIS-Website-main/content/project/case-studies/italy_rome.md'},\n",
       " {'start': 0,\n",
       "  'chunk': '{{< content-start >}}\\n\\n# Using the processing toolbox to automate snow classification\\n\\n<p class=\"is-size-6 is-italic has-text-weight-medium\">\\n  <span class=\"icon\">\\n    <i class=\"fas fa-calendar-alt\"></i>\\n  </span>\\n  <span>August 01, 2014</span>\\n</p>\\n\\n\\nSnowy Hydro Limited (SHL) is a peak electricity generator based in the Snowy Mountains of New South Wales, Australia. Despite owning a variety of generation assets across the country, Snowy Hydro Limited is best known for the custodianship of an iconic piece of Australian infrastructure, the Snowy Mountains Hydro Electric Scheme.\\n\\nThe Snowy Mountains Hydro Electric Scheme, is made possible by seasonal snow falls in the New South Wales alpine region. Water from the spring snow melt is used to generate electricity addressing peak demand in the national electricity market, while also diverting water to the drier inland areas of South Eastern Australia for irrigation and agriculture.\\n\\nClassifying snow cover over the winter months allows SHL to monitor the life cycle of the snow covered area, archive coverage areas for historical records, and provide coverage statistics to the hydrographic services team for water yield and storage forecasts.\\n\\n<figure>\\n<img src=\"../images/australia_snowyhydro1.jpg\" class=\"align-center\" height=\"43400\" alt=\"images/australia_snowyhydro1.jpg\" />\\n<figcaption>Map 1.1 Snowy Water Catchment Map</figcaption>\\n</figure>\\n\\n## Background\\n\\nEach year during the winter months (1st June to the 31st October) SHL obtains as many cloud free images as possible from the MODIS Terra (EOS AM) satellite. These images are then ingested into an algorithm known as the Normalised Difference Snow Index (NDSI), which is used to indicate areas where snow is present. While this algorithm is not unique to any one particular sensor, the MODIS instrument was chosen due to its adequate spatial resolution and daily coverage of the project area (Map 1.1 Snowy Water Catchment).\\n\\n## Aim\\n\\nThe aim of this project is to automate the ND',\n",
       "  'title': 'Using the processing toolbox to automate snow classification',\n",
       "  'draft': False,\n",
       "  'HasBanner': False,\n",
       "  'sidebar': True,\n",
       "  'thumbnail': 'images/australia_snowyhydro1.jpg',\n",
       "  'section': 'project',\n",
       "  'type': 'case-study',\n",
       "  'date': datetime.date(2014, 8, 1),\n",
       "  'featured': False,\n",
       "  'archived': True,\n",
       "  'filename': 'QGIS-Website-main/content/project/case-studies/australia_snowyhydro.md'},\n",
       " {'start': 0,\n",
       "  'chunk': '{{< content-start >}}\\n\\n# QGIS and GRASS applied to paleontological survey in Western Portugal\\n\\n<p class=\"is-size-6 is-italic has-text-weight-medium\">\\n  <span class=\"icon\">\\n    <i class=\"fas fa-calendar-alt\"></i>\\n  </span>\\n  <span>November 01, 2010</span>\\n</p>\\n\\n\\nThe Associação Leonel Trindade -- Sociedade de História Natural (ALT-SHN) is a non profit institution headquarted in Torres Vedras, Portugal, specialized in paleontology. The institution manages a large fossil collection, mainly from Upper Jurassic. One of the key issues in paleontological management is to assess spatial context of the sites from where the fossils are retrieved -- hundreds of sites representing thousands of different specimens.\\n\\n## The Project\\n\\n![](../images/portugal_torres1.jpg)\\n\\nBack in 2008, we came up with the idea of exploring GIS technologies to support the investigation and get a more holistic perspective on the heritage we were dealing. This idea boosted SIGAP Project (GIS applied to paleontology) \\\\[2\\\\]. The project, supported by public and private entities -- mainly the Municipalty, Digiterra.hu and the Army\\\\\\'s Geographic Institute (IGeoE), aimed three goals:\\n\\n-   Field Survey with Differencial GPS to gather the coordinates of the sites;\\n-   Build a Risk Model to identify hazards towards paleontological heritage and thus prevent them through regular field surveys;\\n-   Build a Geographic Database to handle all the information and start the collection inventory.\\n\\n## Software we used\\n\\nQGIS was the mainframe of all the project. Data was dumped directly to QGIS, and then edited and manipulated in order to achieve the desired outputs. The GRASS interface provided by QGIS allowed us to conduct complex spatial analyis on rasters in order to obtain the risk model we needed to plan our field work and future prospection. Furthermore it allowed us to import PostGIS layers and visualize them on QGIS.\\n\\n<figure>\\n<img src=\"../images/portugal_torres2.jpg\" class=\"align-right\" alt=\"portugal_torres2.jpg',\n",
       "  'title': 'QGIS and GRASS applied to paleontological survey in Western Portugal',\n",
       "  'draft': False,\n",
       "  'HasBanner': False,\n",
       "  'sidebar': True,\n",
       "  'thumbnail': 'images/portugal_torres1.jpg',\n",
       "  'section': 'project',\n",
       "  'type': 'case-study',\n",
       "  'date': datetime.date(2010, 11, 1),\n",
       "  'featured': False,\n",
       "  'archived': True,\n",
       "  'filename': 'QGIS-Website-main/content/project/case-studies/portugal_torres.md'},\n",
       " {'start': 1000,\n",
       "  'chunk': 'o monitor the life cycle of the snow covered area, archive coverage areas for historical records, and provide coverage statistics to the hydrographic services team for water yield and storage forecasts.\\n\\n<figure>\\n<img src=\"../images/australia_snowyhydro1.jpg\" class=\"align-center\" height=\"43400\" alt=\"images/australia_snowyhydro1.jpg\" />\\n<figcaption>Map 1.1 Snowy Water Catchment Map</figcaption>\\n</figure>\\n\\n## Background\\n\\nEach year during the winter months (1st June to the 31st October) SHL obtains as many cloud free images as possible from the MODIS Terra (EOS AM) satellite. These images are then ingested into an algorithm known as the Normalised Difference Snow Index (NDSI), which is used to indicate areas where snow is present. While this algorithm is not unique to any one particular sensor, the MODIS instrument was chosen due to its adequate spatial resolution and daily coverage of the project area (Map 1.1 Snowy Water Catchment).\\n\\n## Aim\\n\\nThe aim of this project is to automate the NDSI workflow as a model in the QGIS processing toolbox. The required output is a vector polygon showing the snow covered extent within the Snowy Water Catchment, along with attribution describing the total area covered in square kilometres.\\n\\n## Method\\n\\nThe NDSI algorithm itself is quite simple (show below in Formula 1.1 - Normalised Difference Snow Index (NDSI)) and the subsequent steps required to extract snow cover in a vector format also lends itself nicely to a processing toolbox model.\\n\\n<figure>\\n<img src=\"../images/australia_snowyhydro8.png\" alt=\"australia_snowyhydro8.png\" />\\n<figcaption>Formula 1.1 - Normalised Difference Snow Index (NDSI)</figcaption>\\n</figure>\\n\\nThis NDSI algorithm will return results between -1 and 1, with the threshold for snow typically being values greater than 0.4. An example of the NDSI output is shown below (Map 1.3 - NDSI output), alongside a natural colour image (Map 1.2 - MODIS true colour) for the 13th July 2014. As seen from these images the NDSI outp',\n",
       "  'title': 'Using the processing toolbox to automate snow classification',\n",
       "  'draft': False,\n",
       "  'HasBanner': False,\n",
       "  'sidebar': True,\n",
       "  'thumbnail': 'images/australia_snowyhydro1.jpg',\n",
       "  'section': 'project',\n",
       "  'type': 'case-study',\n",
       "  'date': datetime.date(2014, 8, 1),\n",
       "  'featured': False,\n",
       "  'archived': True,\n",
       "  'filename': 'QGIS-Website-main/content/project/case-studies/australia_snowyhydro.md'},\n",
       " {'start': 1000,\n",
       "  'chunk': ' The project, supported by public and private entities -- mainly the Municipalty, Digiterra.hu and the Army\\\\\\'s Geographic Institute (IGeoE), aimed three goals:\\n\\n-   Field Survey with Differencial GPS to gather the coordinates of the sites;\\n-   Build a Risk Model to identify hazards towards paleontological heritage and thus prevent them through regular field surveys;\\n-   Build a Geographic Database to handle all the information and start the collection inventory.\\n\\n## Software we used\\n\\nQGIS was the mainframe of all the project. Data was dumped directly to QGIS, and then edited and manipulated in order to achieve the desired outputs. The GRASS interface provided by QGIS allowed us to conduct complex spatial analyis on rasters in order to obtain the risk model we needed to plan our field work and future prospection. Furthermore it allowed us to import PostGIS layers and visualize them on QGIS.\\n\\n<figure>\\n<img src=\"../images/portugal_torres2.jpg\" class=\"align-right\" alt=\"portugal_torres2.jpg\" />\\n<figcaption>Vector point data editing and visualization</figcaption>\\n</figure>\\n\\nThe choice for QGIS was also encouraged by the multi platform support. The institution has three distinct facilities, and each of those facilities has different systems — we have Mac, Windows PC and Linux PC, therefore it\\\\\\'s of extreme importance that we have the freedom to install the software on any machine we want so we don\\\\\\'t get stuck to a particular computer.\\n\\n<figure>\\n<img src=\"../images/portugal_torres3.jpg\" class=\"align-right\" alt=\"portugal_torres3.jpg\" />\\n<figcaption>Paleontological Risk Map</figcaption>\\n</figure>\\n\\n## Conclusion\\n\\nThe overall experience with QGIS can only be rated has being very good and recommendable. From our point of view, the main advantage of QGIS is that it\\\\\\'s not just a GIS software — it\\\\\\'s a productivity suite for spatial data. It allowed us to take advantage of other powerful tools within a single work environment. From QGIS you can work with GRASS, with PostGIS, with',\n",
       "  'title': 'QGIS and GRASS applied to paleontological survey in Western Portugal',\n",
       "  'draft': False,\n",
       "  'HasBanner': False,\n",
       "  'sidebar': True,\n",
       "  'thumbnail': 'images/portugal_torres1.jpg',\n",
       "  'section': 'project',\n",
       "  'type': 'case-study',\n",
       "  'date': datetime.date(2010, 11, 1),\n",
       "  'featured': False,\n",
       "  'archived': True,\n",
       "  'filename': 'QGIS-Website-main/content/project/case-studies/portugal_torres.md'},\n",
       " {'start': 3000,\n",
       "  'chunk': 'ing existing lithological, stratigraphic and geotechnical data related to surveys;\\n3.  Level 1 seismic microzonation map (the principal product of level 1 microzonation), identifying the microzones into three categories of local hazards:\\n    -   Stable zones;\\n    -   Stable zones prone to ground amplification;\\n    -   Unstable zones.\\n\\nThe scope of this work is to contribute to the creation of a methodology for processing topographical, geological, geophysical and geo-technical data aimed at level 1 seismic microzonation map drafting, through the use of open source tools.\\n\\nThe Graphical Modeler tool integrated in the latest version of QGIS (2.8.1 as of writing) has been used for the creation of a simple geoprocessing model. This tool is useful to automate one of the analysis commonly performed for the creation of level 1 seismic microzonation maps, in particular to identify unstable zones as polygon features.\\n\\nThe model makes use of different open source software and libraries (GRASS, GDAL, QGIS), demonstrating the usefulness of QGIS as a simplified and unified interface for heterogeneous GFOSS (Geospatial Free and Open Source Software) tools (Fig. 1).\\n\\n<figure>\\n<img src=\"../images/italy_igag1.png\" class=\"align-right\" alt=\"italy_igag1.png\" />\\n<figcaption>(Fig. 1) Screenshot from the geoprocessing model.</figcaption>\\n</figure>\\n\\nThe model takes as input (Fig. 2):\\n\\n-   A shapefile of contour lines containing a field with elevation values;\\n-   The name of the field containing elevation values;\\n-   The desired raster resolution in meters for DEM and Slope (default 10);\\n-   A polygon shapefile from which features intersecting areas with slope greater than 15 degrees will be extracted;\\n-   The name of the resulting polygon layer.\\n\\n<figure>\\n<img src=\"../images/italy_igag2.png\" class=\"align-right\" alt=\"italy_igag2.png\" />\\n<figcaption>(Fig. 2) Model input form (left) and execution log (right).</figcaption>\\n</figure>\\n\\nWhen launched, the model performs the following operations:\\n',\n",
       "  'title': 'QGIS geoprocessing model to simplify first level seismic microzonation analysis',\n",
       "  'draft': False,\n",
       "  'HasBanner': False,\n",
       "  'sidebar': True,\n",
       "  'thumbnail': 'images/italy_igag1.png',\n",
       "  'section': 'project',\n",
       "  'type': 'case-study',\n",
       "  'date': datetime.date(2015, 3, 1),\n",
       "  'featured': False,\n",
       "  'archived': True,\n",
       "  'filename': 'QGIS-Website-main/content/project/case-studies/italy_rome.md'},\n",
       " {'start': 5000,\n",
       "  'chunk': 'dro6.jpg\" class=\"align-center\" width=\"300\" alt=\"australia_snowyhydro6.jpg\" />\\n<figcaption>Map 1.6 - Snow inside the SWC</figcaption>\\n</figure>\\n\\n<figure>\\n<img src=\"../images/australia_snowyhydro7.jpg\" class=\"align-left\" width=\"300\" alt=\"australia_snowyhydro7.jpg\" />\\n<figcaption>Map 1.7 - Final snow covered area</figcaption>\\n</figure>\\n\\nThe output from the model is a vector polygon showing the snow covered area within the Snowy Water Catchment. The attributes of the polygon include the area covered by the snow and the percentage of the catchment that is covered. The model in its entirety can be seen below in \\\\\"Image 1.1 - Normalised Difference Snow Index (NDSI) QGIS processing toolbox model\\\\\".\\n\\n<figure>\\n<img src=\"../images/australia_snowyhydro.png\" class=\"align-center\" width=\"600\" alt=\"australia_snowyhydro.png\" />\\n<figcaption>Image 1.1 - Normalised Difference Snow Index (NDSI) QGIS processing toolbox model</figcaption>\\n</figure>\\n\\n## Results/Conclusion\\n\\nThe QGIS processing toolbox is a powerful way to automate a workflow such as this snow classification. The model shown above successfully automates the snow classification process, and delivers a GIS dataset that can be used for visualisation and input into further statistical applications. It successfully removes subjective user error associated with previous methods used by SHL, while providing a repeatable and consistent classification tool. Some seasonal results can be viewed here.\\n\\n### Author\\n\\nAndrew Jeffrey is a GIS Analyst with Snowy Hydro Limited based in Cooma NSW, Australia. He graduated from Charles Sturt University in Wagga Wagga with a Bachelor of Science (Bsc) majoring in Spatial Information Systems in 2004. While at Snowy Hydro Limited he has been able to provide spatial support to exciting projects such as the Cloud Seeding experiment, and day to day operations within the organisation.\\n\\n{{< content-end >}}',\n",
       "  'title': 'Using the processing toolbox to automate snow classification',\n",
       "  'draft': False,\n",
       "  'HasBanner': False,\n",
       "  'sidebar': True,\n",
       "  'thumbnail': 'images/australia_snowyhydro1.jpg',\n",
       "  'section': 'project',\n",
       "  'type': 'case-study',\n",
       "  'date': datetime.date(2014, 8, 1),\n",
       "  'featured': False,\n",
       "  'archived': True,\n",
       "  'filename': 'QGIS-Website-main/content/project/case-studies/australia_snowyhydro.md'},\n",
       " {'start': 3000,\n",
       "  'chunk': 'ut is very good at discriminating snow covered areas from other land cover types and clouds. It can however misclassify portions of large water bodies as snow, caused by water having absorption characteristics in the Near Infrared part of the spectrum. This characteristic of the NDSI indicates the need to incorporate a water mask at some stage in the model.\\n\\n<figure>\\n<img src=\"../images/australia_snowyhydro2.jpg\" class=\"align-left\" width=\"300\" alt=\"australia_snowyhydro2.jpg\" />\\n<figcaption>Map 1.2 - MODIS true colour</figcaption>\\n</figure>\\n\\n<figure>\\n<img src=\"../images/australia_snowyhydro3.jpg\" class=\"align-center\" width=\"300\" alt=\"australia_snowyhydro3.jpg\" />\\n<figcaption>Map 1.3 - NDSI output</figcaption>\\n</figure>\\n\\n<figure>\\n<img src=\"../images/australia_snowyhydro4.jpg\" class=\"align-left\" width=\"300\" alt=\"australia_snowyhydro4.jpg\" />\\n<figcaption>Map 1.4 - Recoded \"Snow\" vs \"Non snow\"</figcaption>\\n</figure>\\n\\nThe NDSI output is created with some very simple band map by using the GRASS module \\\\\"r.mapcalculator\\\\\". Once the NDSI grid was available the NDSI threshold of 0.4 needed to be applied and this would result in a boolean grid depicting \\\\\"Snow\\\\\" and \\\\\"Non snow\\\\\" areas. To get that classification another GRASS module \\\\\"r.recode\\\\\" was used and produced the result shown above in Map 1.4 Recoded \\'Snow\\' vs \\'Non Snow\\'.\\n\\nThe recoded grid was then converted to a vector polygon dataset and the snow covered areas were extracted (shown below, Map 1.5 - Extracted snow). The snow covered areas were then clipped to the Snowy Water Catchment (shown below, Map - 1.6 Snow inside the SWC), then the large water bodies are masked out (shown below, Map 1.7 - Final snow covered area), and finally the area statistics for the snow covered area is generated.\\n\\n<figure>\\n<img src=\"../images/australia_snowyhydro5.jpg\" class=\"align-left\" width=\"300\" alt=\"australia_snowyhydro5.jpg\" />\\n<figcaption>Map 1.5 - Extracted Snow</figcaption>\\n</figure>\\n\\n<figure>\\n<img src=\"../images/australia_snowyhy',\n",
       "  'title': 'Using the processing toolbox to automate snow classification',\n",
       "  'draft': False,\n",
       "  'HasBanner': False,\n",
       "  'sidebar': True,\n",
       "  'thumbnail': 'images/australia_snowyhydro1.jpg',\n",
       "  'section': 'project',\n",
       "  'type': 'case-study',\n",
       "  'date': datetime.date(2014, 8, 1),\n",
       "  'featured': False,\n",
       "  'archived': True,\n",
       "  'filename': 'QGIS-Website-main/content/project/case-studies/australia_snowyhydro.md'},\n",
       " {'start': 4000,\n",
       "  'chunk': \"ion scripts. We introduced a concept of demand clustering which enables to use both K-means and hierarchical methods to aggregate demand points.\\n\\nGeoprocessing scripts with usage of cable routing layer and Djikstra algorithm develops a cable route proposal with optical fiber nodes\\\\' locations.\\n\\nOperators also needed an association between created network nodes and address points to estimate the individual cost of each network branch. To complete this task, we created scripts that performs this operation storing results in local SpatiaLite database. The data needed to be exportable to spreadsheet, so we used free software library to fulfil this requirement.\\n\\n## How users used tool to create FTTH/GPON network plan\\n\\nThe user started work by opening a new work context and specifying an input layer of address points to be analysed. Using the standard QGIS interface, the user could establish a set of demands on address points and finally provide the parameters necessary for further steps of the algorithm.\\n\\n![](../images/poland_ffth/step1_inputlayer.png)\\n\\nWithout having information about the existing civil infrastructure, a properly filtered OpenStreet road network were used as a routing layer. Scipy algorithms fed with input parameters, clustered the address points into demand aggregates marking them with separate colour indicating its assignment to particular cluster.\\n\\n![](../images/poland_ffth/step1.png)\\n\\nHaving all address points clustered, user initiated the steps of high level network planning providing layers prepared in the previous steps and a layer with GPON network starting point.\\n\\n![](../images/poland_ffth/step1-2_result.png)\\n\\nUpon the completion of the algorithm, in QGIS there are geometry objects representing planned cables and splice closure locations. Basing on demand data and network topology, an additional information is stored in database such as the length of the cable, its profile, node's serving areas.\\n\\n![](../images/poland_ffth/step4_results.png)\\n\\nAt\",\n",
       "  'title': 'Using QGIS for FTTH/GPON network planning due to the implementation European Digital Agenda',\n",
       "  'draft': False,\n",
       "  'HasBanner': False,\n",
       "  'sidebar': True,\n",
       "  'thumbnail': 'images/poland_ffth/toolbox.png',\n",
       "  'section': 'project',\n",
       "  'type': 'case-study',\n",
       "  'date': datetime.date(2016, 10, 30),\n",
       "  'featured': False,\n",
       "  'archived': True,\n",
       "  'filename': 'QGIS-Website-main/content/project/case-studies/poland_ffth.md'}]"
      ]
     },
     "execution_count": 6,
     "metadata": {},
     "output_type": "execute_result"
    }
   ],
   "source": [
    "qgis_text_search = index.search(query)\n",
    "qgis_text_search"
   ]
  },
  {
   "cell_type": "markdown",
   "id": "82e4f151-b710-4c18-9003-515881c63cf3",
   "metadata": {},
   "source": [
    "### Vector Search"
   ]
  },
  {
   "cell_type": "code",
   "execution_count": 7,
   "id": "3c5d132f-b7f2-45ac-99ab-0d8680b7b904",
   "metadata": {},
   "outputs": [
    {
     "data": {
      "application/vnd.jupyter.widget-view+json": {
       "model_id": "fc5f8d6df3e44ca29c9e2b1ec4785639",
       "version_major": 2,
       "version_minor": 0
      },
      "text/plain": [
       "  0%|          | 0/3002 [00:00<?, ?it/s]"
      ]
     },
     "metadata": {},
     "output_type": "display_data"
    },
    {
     "data": {
      "text/plain": [
       "<minsearch.vector.VectorSearch at 0x1fabef3b440>"
      ]
     },
     "execution_count": 7,
     "metadata": {},
     "output_type": "execute_result"
    }
   ],
   "source": [
    "embedding_model = SentenceTransformer('multi-qa-distilbert-cos-v1')\n",
    "qgis_embeddings = []\n",
    "\n",
    "for d in tqdm(qgis_chunks):\n",
    "    v = embedding_model.encode(d['chunk'])\n",
    "    qgis_embeddings.append(v)\n",
    "\n",
    "qgis_embeddings = np.array(qgis_embeddings)\n",
    "\n",
    "qgis_vindex = VectorSearch()\n",
    "qgis_vindex.fit(qgis_embeddings, qgis_chunks)"
   ]
  },
  {
   "cell_type": "code",
   "execution_count": 8,
   "id": "e26e75e1-0c73-41df-bd21-abc8f7904804",
   "metadata": {},
   "outputs": [
    {
     "data": {
      "text/plain": [
       "[{'start': 57000,\n",
       "  'chunk': 'is/QGIS/pull/45267)    | [PR #45273](https://github.com/qgis/QGIS/pull/45273)   \\n| QGIS crashes if network connexion is lost and a raster layer is loaded                                                                           | [#45293](https://github.com/qgis/QGIS/issues/45293) | [GDAL PR 4560](https://github.com/OSGeo/gdal/pull/4560) | N/A                                                    \\n\\nThese bug fixes were funded by [QGIS.ORG (through donations and sustaining memberships)](https://www.qgis.org/)\\n\\nBugs fixed by [Even Rouault](https://www.spatialys.com/)\\n\\n### Bug fixes by Alessandro Pasotti\\n\\n| Bug Title                                                                                                               | URL issues.qgis.org (if reported)                   | URL Commit (Github)                                  | 3.16 backport commit (GitHub)                        | Remark\\n|----|----|----|----|----|\\n| Data Source Manager - ArcGIS REST Server - dialog/window closes when adding a layer                                     | [#45050](https://github.com/qgis/QGIS/issues/45050) | [PR #45059](https://github.com/qgis/QGIS/pull/45059) | n/a                                                    \\n| \\\\\"Display no data value as\\\\\" option is not available in raster layer properties                                         | [#44949](https://github.com/qgis/QGIS/issues/44949) | [PR #45063](https://github.com/qgis/QGIS/pull/45063) | Not critical                                           \\n| Raster layer not rendering after data-source change when combined with certain layout element                           | [#44929](https://github.com/qgis/QGIS/issues/44929) | [PR #45074](https://github.com/qgis/QGIS/pull/45074) | [PR #45083](https://github.com/qgis/QGIS/pull/45083)   \\n| Update selected feature ids before emitting featuresDeleted                                                             | [#44921](https://github.com/qgis/QGIS/issues/44921) | [PR #45078](https://github',\n",
       "  'title': 'Changelog for QGIS 3.22',\n",
       "  'draft': False,\n",
       "  'HasBanner': False,\n",
       "  'sidebar': True,\n",
       "  'releaseDate': '2021-10-22',\n",
       "  'section': 'project',\n",
       "  'type': 'visual-changelog',\n",
       "  'filename': 'QGIS-Website-main/content/project/visual-changelogs/visualchangelog322/index.md'},\n",
       " {'start': 53000,\n",
       "  'chunk': \" | [#55426](https://github.com/qgis/QGIS/issues/55426) | [PR #58967](https://github.com/qgis/QGIS/pull/58967) | [PR #59034](https://github.com/qgis/QGIS/pull/59034) |\\n| Non-default blend mode should force raster render of layer | [#55629](https://github.com/qgis/QGIS/issues/55629) | [PR #58966](https://github.com/qgis/QGIS/pull/58966) | [PR #59036](https://github.com/qgis/QGIS/pull/59036) |\\n| Only render main annotation layer in main map canvas or docked maps | [#58766](https://github.com/qgis/QGIS/issues/58766) | [PR #58964](https://github.com/qgis/QGIS/pull/58964) | N/A |\\n| Regenerate primary key when making layer permanent if layer property set | [#58942](https://github.com/qgis/QGIS/issues/58942) | [PR #58954](https://github.com/qgis/QGIS/pull/58954) | N/A |\\n| QgsMapLayer::setDataSource don't require layer name, provider | Unreported | [PR #58953](https://github.com/qgis/QGIS/pull/58953) | N/A |\\n| Fix incompatibility between text wrapping and HTML text formatting | Unreported | [PR #58952](https://github.com/qgis/QGIS/pull/58952) | N/A |\\n| Fix use of custom object values from QGIS expressions in virtual layers | [#58644](https://github.com/qgis/QGIS/issues/58644) | [PR #58939](https://github.com/qgis/QGIS/pull/58939) | N/A |\\n| [processing] Fix translation of elapsed strings | [#58635](https://github.com/qgis/QGIS/issues/58635) | [PR #58928](https://github.com/qgis/QGIS/pull/58928) | N/A |\\n| Fix deadlock when exporting atlas with legend via PyQGIS | [#58496](https://github.com/qgis/QGIS/issues/58496) | [PR #58927](https://github.com/qgis/QGIS/pull/58927) | [PR #58969](https://github.com/qgis/QGIS/pull/58969) |\\n| Fix clipped render when using geometry generator symbol in layout items | [#58909](https://github.com/qgis/QGIS/issues/58909) | [PR #58926](https://github.com/qgis/QGIS/pull/58926) | N/A |\\n| Show warning in help for algorithms for known issues or security risk | Reported privately | [PR #58925](https://github.com/qgis/QGIS/pull/58925) | N/A |\\n| [processin\",\n",
       "  'title': 'Changelog for QGIS 3.40',\n",
       "  'draft': False,\n",
       "  'HasBanner': False,\n",
       "  'sidebar': True,\n",
       "  'releaseDate': '2024-10-25',\n",
       "  'section': 'project',\n",
       "  'type': 'visual-changelog',\n",
       "  'filename': 'QGIS-Website-main/content/project/visual-changelogs/visualchangelog340/index.md'},\n",
       " {'start': 58000,\n",
       "  'chunk': 'adding a layer                                     | [#45050](https://github.com/qgis/QGIS/issues/45050) | [PR #45059](https://github.com/qgis/QGIS/pull/45059) | n/a                                                    \\n| \\\\\"Display no data value as\\\\\" option is not available in raster layer properties                                         | [#44949](https://github.com/qgis/QGIS/issues/44949) | [PR #45063](https://github.com/qgis/QGIS/pull/45063) | Not critical                                           \\n| Raster layer not rendering after data-source change when combined with certain layout element                           | [#44929](https://github.com/qgis/QGIS/issues/44929) | [PR #45074](https://github.com/qgis/QGIS/pull/45074) | [PR #45083](https://github.com/qgis/QGIS/pull/45083)   \\n| Update selected feature ids before emitting featuresDeleted                                                             | [#44921](https://github.com/qgis/QGIS/issues/44921) | [PR #45078](https://github.com/qgis/QGIS/pull/45078) | Not critical                                           \\n| sample() and identify() from QgsRasterDataProvider don\\\\\\'t always provide the same value                                 | [#44902](https://github.com/qgis/QGIS/issues/44902) | [PR #45086](https://github.com/qgis/QGIS/pull/45086) | [PR #45145](https://github.com/qgis/QGIS/pull/45145)   \\n| Copying objects containing multiline strings into another project does not work properly                                | [#44989](https://github.com/qgis/QGIS/issues/44989) | [PR #45129](https://github.com/qgis/QGIS/pull/45129) | Not critical                                           \\n| projecting label coordinates for multiPoint geometry crashes QGIS                                                       | [#45148](https://github.com/qgis/QGIS/issues/45148) | [PR #45150](https://github.com/qgis/QGIS/pull/45150) | No                                                     \\n| Copy/paste style category \\\\\"Form\\\\\" is missing ',\n",
       "  'title': 'Changelog for QGIS 3.22',\n",
       "  'draft': False,\n",
       "  'HasBanner': False,\n",
       "  'sidebar': True,\n",
       "  'releaseDate': '2021-10-22',\n",
       "  'section': 'project',\n",
       "  'type': 'visual-changelog',\n",
       "  'filename': 'QGIS-Website-main/content/project/visual-changelogs/visualchangelog322/index.md'},\n",
       " {'start': 69000,\n",
       "  'chunk': '                                                                                                  \\n| many additional tables that are already loaded in the project are loaded on project load because of layer dependencies          | [#39025](https://github.com/qgis/QGIS/issues/39025)                                                      | [PR #39043](https://github.com/qgis/QGIS/pull/39043)       | N/A\\n| Partial fix for : Wrong assignments of raster values to symbology Paletted/Unique values or Singleband Pseudocolor              | [#39058](https://github.com/qgis/QGIS/issues/39058)                                                      | [PR #39071](https://github.com/qgis/QGIS/pull/39071)       | N/A\\n| Allow to set precision for raster single band presudocolor classification                                                       | not reported                                                                                             | [PR #39079](https://github.com/qgis/QGIS/pull/39079)         \\n| Complete fix for : Wrong assignments of raster values to symbology Paletted/Unique values or Singleband Pseudocolor             | [#39058](https://github.com/qgis/QGIS/issues/39058)                                                      | [PR #39088](https://github.com/qgis/QGIS/pull/39088)       | Risky\\n| Failure with identifier sequence when adding feature                                                                            | [#39093](https://github.com/qgis/QGIS/issues/39093)                                                      | works for me                                                 \\n| Export report to PDF crashes QGIS if no layout is in edit mode                                                                  | [#39086](https://github.com/qgis/QGIS/issues/39086)                                                      | [PR #39135](https://github.com/qgis/QGIS/pull/39135)       | TODO\\n| PG raster: float rasters do not show nodata values correctly in master/3.14   ',\n",
       "  'title': 'Changelog for QGIS 3.16',\n",
       "  'draft': False,\n",
       "  'HasBanner': False,\n",
       "  'sidebar': True,\n",
       "  'releaseDate': '2020-10-23',\n",
       "  'section': 'project',\n",
       "  'type': 'visual-changelog',\n",
       "  'filename': 'QGIS-Website-main/content/project/visual-changelogs/visualchangelog316/index.md'},\n",
       " {'start': 16000,\n",
       "  'chunk': \"e layer properties.\\n\\nThe user can choose those settings:\\n\\n-   enable/disable smooth triangles\\n-   enable/disable wireframe\\n-   choose the line width and the line color of the wireframe\\n-   change the verticale scale\\n-   choose the style of the rendering : unique color or color ramp shading\\n-   settings the color ramp shading as for raster layer\\n\\nFor now, the mesh can be rendered as a TIN but rendering dataset is not supported. However, the infrastructure is adapted for a future round of work.\\n\\n![mesh3dsettings](https://user-images.githubusercontent.com/7416892/72482783-41d10300-37d5-11ea-9a21-8f906abcb14a.gif)\\n\\n![image27](images/entries/f19c25acbd1eb462cdc0365d3af3f706c1b4d2fe.gif)\\n\\nThis feature was funded by [TUFLOW](http://www.tuflow.com)\\n\\nThis feature was developed by [Vincent Cloarec (Lutra Consulting)](http://www.lutraconsulting.co.uk)\\n\\n### Feature: Load 3D vector layer data in background + tiling\\n\\nThis adds support for background loading of data from vector layers into 3D map views. Until now, loading (and tessellation) would freeze the GUI completely - this could take many seconds depending on the complexity of input data.\\n\\nThe basic vector layer renderer and rule-based renderer were converted to use QgsChunkedEntity which is already used for terrain rendering. There are two more improvements in addition to unlocking of GUI:\\n\\n-   loading process is multi-threaded instead of using just a single core\\n-   loading is done in tiles - so it is possible to see the tiles with 3D data appearing while other data are still being loaded\\n\\nThere is a new configuration option in the 3D tab of vector layers - it determines how deep the quadtree will be. For example, one zoom level means there will be a single tile for the whole layer. Three zoom levels means there will be 16 tiles at the leaf level (every extra zoom level multiplies that by 4, so I have limited GUI to max. 8 levels which gives \\\\~16K tiles which is already a lot).\\n\\nHow a vector layer\\\\'s tiling quadtree gets p\",\n",
       "  'title': 'Changelog for QGIS 3.12',\n",
       "  'draft': False,\n",
       "  'HasBanner': False,\n",
       "  'sidebar': True,\n",
       "  'releaseDate': '2020-02-21',\n",
       "  'section': 'project',\n",
       "  'type': 'visual-changelog',\n",
       "  'filename': 'QGIS-Website-main/content/project/visual-changelogs/visualchangelog312/index.md'}]"
      ]
     },
     "execution_count": 8,
     "metadata": {},
     "output_type": "execute_result"
    }
   ],
   "source": [
    "q = embedding_model.encode(query)\n",
    "qgis_vector_results = qgis_vindex.search(q, num_results=5)\n",
    "qgis_vector_results"
   ]
  },
  {
   "cell_type": "markdown",
   "id": "ff0b2e9e-3bc7-48db-a4a8-2dc37ad8abeb",
   "metadata": {},
   "source": [
    "## Build Agents "
   ]
  },
  {
   "cell_type": "markdown",
   "id": "7ab89f92-23dc-41db-bcbf-86e8da7ffa97",
   "metadata": {},
   "source": [
    "### Using `genai`"
   ]
  },
  {
   "cell_type": "code",
   "execution_count": 17,
   "id": "39371beb-67ea-4ce0-baff-cec105691071",
   "metadata": {},
   "outputs": [],
   "source": [
    "genai.configure(api_key=os.getenv(\"GOOGLE_API_KEY\"))"
   ]
  },
  {
   "cell_type": "code",
   "execution_count": 18,
   "id": "4be9d1cb-d715-4cfd-a693-b4ca4520c254",
   "metadata": {},
   "outputs": [
    {
     "data": {
      "text/plain": [
       "'Loading raster layers in QGIS is a fundamental task, and there are several ways to do it, depending on your data source and preference.\\n\\nHere are the most common methods:\\n\\n---\\n\\n## 1. Using the Data Source Manager (Recommended for precision)\\n\\nThis is the most versatile method and recommended for adding individual or multiple rasters, or for connecting to various data sources.\\n\\n1.  **Open the Data Source Manager:**\\n    *   Go to `Layer` > `Add Layer` > `Add Raster Layer...`\\n    *   OR click the `Open Data Source Manager` icon (looks like a database symbol with a plus sign, or multiple stacked squares) on the `Data Source Manager Toolbar`.\\n\\n2.  **Select the \"Raster\" Tab:** In the Data Source Manager window, ensure the `Raster` tab is selected on the left panel.\\n\\n3.  **Browse for your Raster File(s):**\\n    *   Click the `...` (Browse) button next to the \"Source\" field.\\n    *   Navigate to the directory where your raster file is located.\\n    *   Select your raster file (e.g., a `.tif`, `.img`, `.jpg`, `.png`, `.asc`, etc.).\\n    *   You can select multiple files using `Ctrl + Click` or `Shift + Click` if you want to load several rasters at once.\\n    *   Click `Open`.\\n\\n4.  **Add the Layer:**\\n    *   Back in the Data Source Manager, ensure the selected path(s) are correct.\\n    *   Click `Add`.\\n    *   Click `Close` to dismiss the Data Source Manager.\\n\\nYour raster layer will now appear in the `Layers` panel and on the map canvas.\\n\\n---\\n\\n## 2. Drag and Drop (Quick and Easy)\\n\\nThis is the quickest way for a single or a few files.\\n\\n1.  **Open your File Explorer (Windows) or Finder (macOS):** Navigate to the folder containing your raster file(s).\\n2.  **Drag and Drop:**\\n    *   Click and drag the raster file(s) directly from your file explorer window into the QGIS map canvas.\\n    *   Alternatively, you can drag it into the `Layers` panel.\\n3.  **Release:** The layer(s) will be added to your project.\\n\\n---\\n\\n## 3. From the Browser Panel (Convenient for frequently accessed folders)\\n\\nThe `Browser Panel` in QGIS (usually on the left side) allows you to navigate your file system and add layers directly.\\n\\n1.  **Locate the Browser Panel:** If you don\\'t see it, go to `View` > `Panels` > `Browser`.\\n2.  **Navigate to your Raster:** Expand the directories until you find your raster file.\\n3.  **Add the Layer:**\\n    *   **Double-click** the raster file.\\n    *   OR **drag and drop** it from the Browser panel onto the map canvas or `Layers` panel.\\n\\n---\\n\\n## 4. Building a Virtual Raster (VRT) - For Combining Multiple Rasters\\n\\nIf you have many individual raster tiles that you want to display as a single mosaic without creating a new, massive file, a Virtual Raster is ideal.\\n\\n1.  **Open the Data Source Manager** (as in Method 1).\\n2.  **Select the \"Raster\" Tab.**\\n3.  **Select Multiple Raster Files:**\\n    *   Click the `...` (Browse) button next to the \"Dataset(s)\" field.\\n    *   Navigate to your rasters, select all the individual raster files you want to combine (use `Ctrl + Click` or `Shift + Click`), and click `Open`.\\n4.  **Build Virtual Raster:**\\n    *   Ensure all desired files are listed under \"Dataset(s)\".\\n    *   Check the `Build Virtual Raster (VRT)` box.\\n    *   Optionally, specify a path for the `.vrt` file using the `...` button next to \"VRT output file\". If you don\\'t, it will create a temporary one.\\n    *   Click `Add`.\\n    *   Click `Close`.\\n\\nQGIS will create a single virtual layer that references all your individual raster files, treating them as one. This is very efficient.\\n\\n---\\n\\n## 5. Adding Web Raster Services (WMS/WMTS/ArcGIS REST)\\n\\nIf your raster data is hosted online as a web service:\\n\\n1.  **Open the Data Source Manager.**\\n2.  **Select the appropriate tab:**\\n    *   `WMS/WMTS` for Web Map Services.\\n    *   `ArcGIS REST Servers` for ArcGIS REST services.\\n3.  **Create a New Connection:**\\n    *   Click the `New` button.\\n    *   Provide a `Name` for the connection and the `URL` of the service.\\n    *   Click `OK`.\\n4.  **Connect and Add Layer:**\\n    *   Select your newly created connection from the list.\\n    *   Click `Connect`.\\n    *   The available layers from the service will appear. Select the one(s) you want.\\n    *   Click `Add`, then `Close`.\\n\\n---\\n\\n### Important Considerations After Loading:\\n\\n*   **Projection (CRS):** QGIS handles projections on-the-fly. If your raster doesn\\'t align with other layers, check its CRS in `Layer Properties > Information`.\\n*   **Symbology:** Rasters might not look great initially. Right-click the layer > `Properties` > `Symbology` to adjust contrast, brightness, color ramps, band rendering, etc.\\n*   **Pyramids/Overviews:** For very large rasters, building pyramids can significantly improve display performance at different zoom levels. Right-click the layer > `Properties` > `Pyramids`.\\n*   **File Formats:** QGIS, through GDAL, supports a vast array of raster formats (GeoTIFF, ERDAS IMG, JPEG, PNG, ASCII Grid, ECW, MrSID, etc.). If a file doesn\\'t load, check if it\\'s a supported format or if it\\'s corrupted.'"
      ]
     },
     "execution_count": 18,
     "metadata": {},
     "output_type": "execute_result"
    }
   ],
   "source": [
    "model = genai.GenerativeModel(model_name='gemini-2.5-flash')\n",
    "user_prompt = \"How to load raster layer in QGIS?\"\n",
    "chat_messages = [\n",
    "    {\"role\": \"user\", \"parts\": [user_prompt]}\n",
    "]\n",
    "\n",
    "response = model.generate_content(chat_messages) \n",
    "response.text"
   ]
  },
  {
   "cell_type": "markdown",
   "id": "71fdc2a9-7631-4f27-8e69-3cbd41dbe56c",
   "metadata": {},
   "source": [
    "### Function Call"
   ]
  },
  {
   "cell_type": "code",
   "execution_count": 19,
   "id": "5c5bd537-60c5-4890-b73f-85eb5fe771d2",
   "metadata": {},
   "outputs": [
    {
     "data": {
      "text/plain": [
       "response:\n",
       "GenerateContentResponse(\n",
       "    done=True,\n",
       "    iterator=None,\n",
       "    result=protos.GenerateContentResponse({\n",
       "      \"candidates\": [\n",
       "        {\n",
       "          \"content\": {\n",
       "            \"parts\": [\n",
       "              {\n",
       "                \"function_call\": {\n",
       "                  \"name\": \"text_search\",\n",
       "                  \"args\": {\n",
       "                    \"query\": \"load raster layer QGIS\"\n",
       "                  }\n",
       "                }\n",
       "              }\n",
       "            ],\n",
       "            \"role\": \"model\"\n",
       "          },\n",
       "          \"finish_reason\": \"STOP\",\n",
       "          \"index\": 0\n",
       "        }\n",
       "      ],\n",
       "      \"usage_metadata\": {\n",
       "        \"prompt_token_count\": 127,\n",
       "        \"candidates_token_count\": 19,\n",
       "        \"total_token_count\": 234\n",
       "      },\n",
       "      \"model_version\": \"gemini-2.5-flash\"\n",
       "    }),\n",
       ")"
      ]
     },
     "execution_count": 19,
     "metadata": {},
     "output_type": "execute_result"
    }
   ],
   "source": [
    "def gemini_search_tool(query: str) -> str:\n",
    "    print(f'query: {query}')\n",
    "\n",
    "available_tools = {\n",
    "    \"text_search\": gemini_search_tool,\n",
    "}\n",
    "\n",
    "text_search_tool_genai = genai.protos.Tool(\n",
    "    function_declarations=[\n",
    "        genai.protos.FunctionDeclaration(\n",
    "            name=\"text_search\",\n",
    "            description=\"Search the FAQ database about QGIS\", \n",
    "            parameters=genai.protos.Schema(\n",
    "                type=genai.protos.Type.OBJECT,\n",
    "                properties={\n",
    "                    \"query\": genai.protos.Schema(\n",
    "                        type=genai.protos.Type.STRING,\n",
    "                        description=\"Search query text to look up in QGIS FAQ.\"\n",
    "                    )\n",
    "                },\n",
    "                required=[\"query\"]\n",
    "            )\n",
    "        )\n",
    "    ]\n",
    ")\n",
    "\n",
    "system_prompt = \"\"\"\n",
    "You are a helpful assistant for QGIS software course. \n",
    "\n",
    "Use the search tool to find relevant information from the course materials before answering questions.\n",
    "\n",
    "If you can find specific information through search, use it to provide accurate answers.\n",
    "If the search doesn't return relevant results, let the user know and provide general guidance.\n",
    "\"\"\"\n",
    "\n",
    "model = genai.GenerativeModel(\n",
    "    model_name=\"gemini-2.5-flash\",\n",
    "    tools=[text_search_tool_genai],\n",
    "    system_instruction=system_prompt\n",
    ")\n",
    "\n",
    "chat = model.start_chat(enable_automatic_function_calling=False)\n",
    "response = chat.send_message(user_prompt)\n",
    "response"
   ]
  },
  {
   "cell_type": "code",
   "execution_count": 20,
   "id": "f4aaf4e8-25e5-4e51-a5a1-bf58a84d4e0d",
   "metadata": {},
   "outputs": [
    {
     "name": "stdout",
     "output_type": "stream",
     "text": [
      "query: load raster layer QGIS\n"
     ]
    },
    {
     "data": {
      "text/plain": [
       "text: \"I\\'m sorry, I couldn\\'t find specific instructions on how to load a raster layer in QGIS within the course materials. However, I can give you general guidance.\\n\\nTypically, in QGIS, you can load a raster layer by going to:\\n1.  **Layer Menu**\\n2.  **Add Layer**\\n3.  **Add Raster Layer...**\\n\\nFrom there, you would navigate to your raster file (e.g., a GeoTIFF, JPEG2000, etc.) and add it to your project.\""
      ]
     },
     "execution_count": 20,
     "metadata": {},
     "output_type": "execute_result"
    }
   ],
   "source": [
    "part = response.candidates[0].content.parts[0]\n",
    "function_call = part.function_call\n",
    "tool_name = function_call.name\n",
    "tool_args_struct = function_call.args\n",
    "tool_function = available_tools.get(tool_name)\n",
    "tool_args = {key: value for key, value in tool_args_struct.items()}\n",
    "tool_result = tool_function(**tool_args)\n",
    "response = chat.send_message(\n",
    "            genai.protos.Part(\n",
    "                function_response=genai.protos.FunctionResponse(\n",
    "                    name=tool_name,\n",
    "                    response={'result': tool_result}\n",
    "                )\n",
    "            )\n",
    "        )\n",
    "response.candidates[0].content.parts[0]"
   ]
  },
  {
   "cell_type": "markdown",
   "id": "ab2e1dbd-24a5-46ff-9f89-fe9165d4983c",
   "metadata": {},
   "source": [
    "### Using Pydantic AI"
   ]
  },
  {
   "cell_type": "code",
   "execution_count": 21,
   "id": "7e34cae1-02a2-4070-a5d0-a947ceb9ef5c",
   "metadata": {},
   "outputs": [],
   "source": [
    "def text_search(query: str) -> List[Any]:\n",
    "    return index.search(query, num_results=5)"
   ]
  },
  {
   "cell_type": "code",
   "execution_count": 22,
   "id": "2edb8573-cd81-408c-9ef4-16520e38bdf6",
   "metadata": {},
   "outputs": [],
   "source": [
    "provider = GoogleProvider(api_key=os.getenv('GOOGLE_API_KEY'))\n",
    "model = GoogleModel('gemini-2.5-flash', provider=provider)\n",
    "\n",
    "agent = Agent(\n",
    "    name=\"faq_agent\",\n",
    "    instructions=system_prompt,\n",
    "    tools=[text_search],\n",
    "    model=model\n",
    ")"
   ]
  },
  {
   "cell_type": "code",
   "execution_count": 24,
   "id": "23755208-865a-4d02-a28d-090a646aff0c",
   "metadata": {},
   "outputs": [
    {
     "data": {
      "text/plain": [
       "AgentRunResult(output='To load a raster layer in QGIS, you typically use the \"Layer\" menu. Here\\'s a general approach:\\n\\n1.  Open QGIS.\\n2.  Go to the **Layer** menu in the top toolbar.\\n3.  Select **Add Layer**.\\n4.  Choose **Add Raster Layer...** from the submenu.\\n5.  A new window will open, allowing you to browse your computer and select the raster file you wish to load.\\n\\nIn newer versions of QGIS (like 3.0 and later), there\\'s a unified \"Add Layer\" dialog which might simplify the process further, allowing you to add various data formats from a single interface.')"
      ]
     },
     "execution_count": 24,
     "metadata": {},
     "output_type": "execute_result"
    }
   ],
   "source": [
    "result = await agent.run(user_prompt=user_prompt)\n",
    "result"
   ]
  },
  {
   "cell_type": "code",
   "execution_count": 25,
   "id": "ecbe85af-9a06-4f25-9a6c-0612e74df29b",
   "metadata": {},
   "outputs": [
    {
     "data": {
      "text/plain": [
       "[ModelRequest(parts=[UserPromptPart(content='How to load raster layer in QGIS?', timestamp=datetime.datetime(2025, 10, 30, 22, 35, 8, 201983, tzinfo=datetime.timezone.utc))], instructions=\"You are a helpful assistant for QGIS software course. \\n\\nUse the search tool to find relevant information from the course materials before answering questions.\\n\\nIf you can find specific information through search, use it to provide accurate answers.\\nIf the search doesn't return relevant results, let the user know and provide general guidance.\"),\n",
       " ModelResponse(parts=[ThinkingPart(content='', signature='Cs4BAdHtim9IdmhtO3erhsqDilzoQJAh6o1/SSCWz11oGGmPDIz3/8qYAG89yUAPVS8tM+e1CVgb1QQ9MS8xhpestN3EjrFbrQiHXROf/xH+2xigfg/G6bOcGSk6fTczJeXvEUJbyxPnEIfR5BmwurQ60++O6ISocGwJM5IPmvjAuqz5A0GmxtT9ULyWGCSGv0ajmLjtmJ3WtdsqfUrgHq9+EcuZkebBOpXGtFS4bs/T/C0H+qyTPG7zPcNiVcJPiNqmQIK+lHvWkZCWPNwnUwU=', provider_name='google-gla'), ToolCallPart(tool_name='text_search', args={'query': 'load raster layer QGIS'}, tool_call_id='pyd_ai_3a59cfe7db254ca4bd6a37a6f412952e')], usage=RequestUsage(input_tokens=109, output_tokens=60, details={'thoughts_tokens': 41, 'text_prompt_tokens': 109}), model_name='gemini-2.5-flash', timestamp=datetime.datetime(2025, 10, 30, 22, 35, 9, 902559, tzinfo=datetime.timezone.utc), provider_name='google-gla', provider_details={'finish_reason': 'STOP'}, provider_response_id='HegDaZK_K7ScjuMP4bTT4Qs', finish_reason='stop'),\n",
       " ModelRequest(parts=[ToolReturnPart(tool_name='text_search', content=[{'start': 4000, 'chunk': \"ccess to external drives)\\n-   New `OWS` group (collation of available map server connections)\\n-   Open a second browser (`View -> Panels -> Browser (2)`) for drag-n-drop interactions between browser panels\\n-   Icons now sorted by item group type (filesystem, databases, map servers)\\n-   Layer `Properties` now have better visual layout\\n\\n![image8](images/changelog-2.0_browser.png)\\n\\n## Data Providers\\n\\n### Feature: Raster Data Provider overhaul\\n\\nThe raster data provider system has been completely overhauled. One of the best new features stemming from this work is the ability to \\\\'Layer -\\\\> Save As\\\\...\\\\' to save any raster layer as a new layer. In the process you can clip, resample, and reproject the layer to a new Coordinate Reference System. You can also save a raster layer as a rendered image so if you for example have single band raster that you have applied a colour palette to, you can save the rendered layer out to a georeferenced RGB layer.\\n\\n![image9](images/Selection_017.png)\\n\\n### Feature: Oracle Spatial support\\n\\nQGIS 2.0 now includes Oracle Spatial support.\\n\\n![image10](images/oracle.png)\\n\\n### Feature: Web Coverage Service provider added\\n\\nQGIS now provides native support for Web Coverage Service layers - the process for adding WCS is similar to adding a WMS layer or WFS layer.\\n\\n### Feature: Raster 2% cumulative cut by default\\n\\nMany raster imagery products have a large number of outliers which result in images having a washed out appearance. QGIS 2.0 intoduces much more fine grained control over the rendering behaviour of rasters, including using a 2% - 98% percent cumulative cut by default when determining the colour space for the image. The image here shows QGIS 1.8 (left) versus QGIS 2.0 (right) when rendering the same image with default settings.\\n\\n![image11](images/Selection_023.png)\\n\\n### Feature: WMS identify format\\n\\nIt is now possible to select the format of the identify tool result for WMS layers if multiple known formats are supported by the server. The sup\", 'title': 'Changelog for QGIS 2.0', 'draft': False, 'HasBanner': False, 'sidebar': True, 'releaseDate': '2013-09-09', 'section': 'project', 'type': 'visual-changelog', 'filename': 'QGIS-Website-main/content/project/visual-changelogs/visualchangelog200/index.md'}, {'start': 55000, 'chunk': \"te path when project in relative path mode                                                                                                    | [#21150](https://issues.qgis.org/issues/21150) | [PR #9099](https://github.com/qgis/QGIS/pull/9099)                                                           | Done\\n| field calculator doesn\\\\'t load values for gpkg containing blank spaces or n dash (hypen) in field names                                                                       | [#21100](https://issues.qgis.org/issues/21100) | [PR #9071](https://github.com/qgis/QGIS/pull/9071)                                                           | Done\\n| Can\\\\'t open feature form when when the primary key of Spatialite layer is created in text type                                                                                | [#21176](https://issues.qgis.org/issues/21176) | [PR \\\\#](https://issues.qgis.org/projects/qgis/repository/revisions/7f61dc495491752fd26c7f3bad56adc1f8950e3f) | No (deferred)\\n| Geopackage layer rename in DB Manager does not update f_table_name values in the layer_styles table or the Triggers                                                           | [#21227](https://issues.qgis.org/issues/21227) | [PR #9164](https://github.com/qgis/QGIS/pull/9164)                                                           | Not possible because it relies on the new rename feature implemented in browser\\n| Layer Properties \\\\> Load Style \\\\> From database \\\\> \\\\'Other styles \\\\...\\\\' \\\\> Description column contains Name text, should contain Description text (it is a geopackage layer) | [#21254](https://issues.qgis.org/issues/21254) | [PR #9170](https://github.com/qgis/QGIS/pull/9170)                                                           | Done\\n| Comments in SQL query in DB Manager breaks the query                                                                                                                          | [#21271](https://issues.qgis.org/issues/21271) | [PR #918\", 'title': 'Changelog for QGIS 3.6', 'draft': False, 'HasBanner': False, 'sidebar': True, 'releaseDate': '2019-02-22', 'section': 'project', 'type': 'visual-changelog', 'filename': 'QGIS-Website-main/content/project/visual-changelogs/visualchangelog36/index.md'}, {'start': 28000, 'chunk': \"y inputs for models\\n\\nThis feature was funded by [North Road](http://north-road.com)\\n\\nThis feature was developed by [Nyall Dawson (North Road)](http://north-road.com)\\n\\n### Feature: Flagging algorithms with known issues\\n\\nBy default, we now hide 3rd party algorithms with known issues from the Processing toolbox, helping you avoid frustration (or misleading results) when running these algorithms. A new setting in the Processing options screen allows these algorithms to be shown, but they will be highlighted in the toolbox with a warning icon. Use at your own risk!\\n\\nThis feature was funded by [North Road](http://north-road.com)\\n\\nThis feature was developed by [Nyall Dawson (North Road)](http://north-road.com)\\n\\n### Feature: Raster Boolean logical OR/AND algorithms\\n\\nIn version 3.8 we\\\\'ve added new algorithms which calculate the boolean OR or AND for a set of input rasters. For AND, if all of the input rasters have a non-zero value for a pixel, that pixel will be set to 1 in the output raster, otherwise it will be set to 0. For OR, if ANY of the input rasters have a non-zero value for a pixel, that pixel will be set to 1 in the output raster, else 0.\\n\\nA reference layer parameter allows you to specify an existing raster layer to use as a reference when creating the output raster. The output raster will have the same extent, CRS, and pixel dimensions as this layer.\\n\\nBy default, a nodata pixel in ANY of the input layers will result in a nodata pixel in the output raster. If you check the \\\\'Treat nodata values as false\\\\' option, then nodata inputs will be treated the same as a 0 input value.\\n\\nThese new algorithms make for much simpler raster boolean logic calculation, without the complexity of using the raster calculator. They are also dynamically scalable to any number of input rasters (unlike the raster calculator), so are much more flexible when used within your Processing models.\\n\\nThis feature was funded by SMEC/SJ\\n\\nThis feature was developed by [Nyall Dawson (North Road)](h\", 'title': 'Changelog for QGIS 3.8', 'draft': False, 'HasBanner': False, 'sidebar': True, 'releaseDate': '2019-06-21', 'section': 'project', 'type': 'visual-changelog', 'filename': 'QGIS-Website-main/content/project/visual-changelogs/visualchangelog38/index.md'}, {'start': 29000, 'chunk': \"otherwise it will be set to 0. For OR, if ANY of the input rasters have a non-zero value for a pixel, that pixel will be set to 1 in the output raster, else 0.\\n\\nA reference layer parameter allows you to specify an existing raster layer to use as a reference when creating the output raster. The output raster will have the same extent, CRS, and pixel dimensions as this layer.\\n\\nBy default, a nodata pixel in ANY of the input layers will result in a nodata pixel in the output raster. If you check the \\\\'Treat nodata values as false\\\\' option, then nodata inputs will be treated the same as a 0 input value.\\n\\nThese new algorithms make for much simpler raster boolean logic calculation, without the complexity of using the raster calculator. They are also dynamically scalable to any number of input rasters (unlike the raster calculator), so are much more flexible when used within your Processing models.\\n\\nThis feature was funded by SMEC/SJ\\n\\nThis feature was developed by [Nyall Dawson (North Road)](http://north-road.com)\\n\\n### Feature: New input parameter types for Print Layouts and Print Layout Items\\n\\nBy adding new parameter types for Print Layouts and Print Layout items, we\\\\'ve opened up QGIS 3.8 to a whole new world of Processing algorithms which operate on print layouts. These new parameter types allow for creation of Processing algorithms and graphical models which prompt users to select a print layout and/or an item on the layout when run.\\n\\nThis feature was funded by SMEC/SJ\\n\\nThis feature was developed by [Nyall Dawson (North Road)](http://north-road.com)\\n\\n### Feature: New parameter type for Map Scales\\n\\nWe\\\\'ve added a new parameter type specifically for map scales, QgsProcessingParameterScale. Scale values are evaluated using self.parameterAsDouble, which return the map scale denominator (matching the standard in other parts of the QGIS API).\\n\\nScale parameters are displayed to users using the standard QgsScaleWidget, which includes the combo box of predefined scales and a sho\", 'title': 'Changelog for QGIS 3.8', 'draft': False, 'HasBanner': False, 'sidebar': True, 'releaseDate': '2019-06-21', 'section': 'project', 'type': 'visual-changelog', 'filename': 'QGIS-Website-main/content/project/visual-changelogs/visualchangelog38/index.md'}, {'start': 62000, 'chunk': '86](https://issues.qgis.org/issues/19686) | [PR #8945](https://github.com/qgis/QGIS/pull/8945)                                            | [PR #8949](https://github.com/qgis/QGIS/pull/8949)\\n| v.surf.rst NOT WORKING IN QGIS 3.2.0 BONN                                                             | [#19472](https://issues.qgis.org/issues/19472) | [PR #8959](https://github.com/qgis/QGIS/pull/8959)                                            | [Direct commit](https://github.com/qgis/QGIS/commit/c2465fc4a66425c296ffedb491d220a3db8ba453)\\n| SVM Classification, SupportVectorMachineClassification(OpenCV)-Vector Field                           | [#20796](https://issues.qgis.org/issues/20796) | [PR #8960](https://github.com/qgis/QGIS/pull/8960)                                            | [Direct commit](https://github.com/qgis/QGIS/commit/e0a8de477b04a6aa355d934c25ba37257bc63584)\\n| GDAL/OGR Dissolve algorithm not properly working with point/multipoint layers                         | [#20025](https://issues.qgis.org/issues/20025) | [PR #8972](https://github.com/qgis/QGIS/pull/8972)                                            | [PR #8981](https://github.com/qgis/QGIS/pull/8981)\\n| Build Virtual Vector tool: file created fails to load correctly                                       | [#14374](https://issues.qgis.org/issues/14374) | Cannot reproduce with 3.5                                                                       \\n| \\\\\"Convert map to raster\\\\\" algorithm does not export with transparent background despite the option    | [#19866](https://issues.qgis.org/issues/19866) | [PR #8965](https://github.com/qgis/QGIS/pull/8965)                                            | [PR #8981](https://github.com/qgis/QGIS/pull/8981)\\n| \\\\[GUI\\\\] Disable edit tools when no layer is selected/available nor selected layer is in edit mode     | [#18141](https://issues.qgis.org/issues/18141) | [Direct commit](https://github.com/qgis/QGIS/commit/ab3adc663c37b3da589cf6bae56d733fcbc4feb3) | [Direct comm', 'title': 'Changelog for QGIS 3.6', 'draft': False, 'HasBanner': False, 'sidebar': True, 'releaseDate': '2019-02-22', 'section': 'project', 'type': 'visual-changelog', 'filename': 'QGIS-Website-main/content/project/visual-changelogs/visualchangelog36/index.md'}], tool_call_id='pyd_ai_3a59cfe7db254ca4bd6a37a6f412952e', timestamp=datetime.datetime(2025, 10, 30, 22, 35, 9, 914168, tzinfo=datetime.timezone.utc))], instructions=\"You are a helpful assistant for QGIS software course. \\n\\nUse the search tool to find relevant information from the course materials before answering questions.\\n\\nIf you can find specific information through search, use it to provide accurate answers.\\nIf the search doesn't return relevant results, let the user know and provide general guidance.\"),\n",
       " ModelResponse(parts=[ThinkingPart(content='', signature='Cq0FAdHtim/vlIpAEkEtYMQhYMvhK8LLQ0VNlsR/noAxJxp66E/A9rAPXERzUIr6YtaQPUugyu5Gq3JHHpuFZYqkfkBXCwXUP4oxIHx3u0RCLqjhjdQ5KTaFDqN+DYk5tMB6dd3Iu5+uXFchZESQuJh3xZp1Oki+QmzWLzcqyMgtIq83PL8MIYbtgbNPhdcxksIH2q/tYlJDR6TElOuPsxGC2FHEwtYZ9TBCgedGMGX0SqP3Eto+E/Ql0cQDoLzL44egj9JXGvaQJrPBDQi1cnjZ8vsjaJnD4rrCd4B8a8NosA9byUBsvz9lNoI734I/MyLa7cruSKpPjJnccValujvOWnAgbqc7bs+r0pHA4NNlRHMMf5BzW3GBzVDKJbvr6qmQeY2y4qCoZ+PPuyrUp/KeRTU0W72vqnBJQpw7LcoO/C6KlVVet+426RXgqDZTfDOAifLTGvCNiyqYgnY9xGEG2pucCgg0RdE6PywFknt47jmFRUFO+wHLWuRmI2ZOQLgYtVLukG/yGjWs/USeQPUFAmEIJo3cQlEy/OuINikbyRdiN2c1vYLrx3+7BPa+S14dgOzJ2TRrSDw5ifR3zxakZFbIoUM2cHcOaDfx9hfeKfKO5QnJ01kNCfY9rPI6iaBCMOHcwFIGthhDI1G+nvSJnNoiEqzzUFW2aE80ksGamp3V2RptrxepbYq9KdYgUIi+QlXUb1O+Mi5DTerf2qfO60QzQLBuzP+Syl+DAktaT/3rM7UC9WqcbBUxG/mhaDSGCSGh42RxNTB3crkJWETeId6PH+2YnaBZ1j5o6kYB9uMlMyWGZi7dI0fQaPw4gu54/RwdGWxo9wuu0+8V3S9KsCoX/HBbqlUyOzqKMxFhqaJufoD+Au6HyjjLI0rN+JMu24muK7IqqSjZ/b35rA==', provider_name='google-gla'), ToolCallPart(tool_name='text_search', args={'query': 'add raster layer QGIS'}, tool_call_id='pyd_ai_925ed7908881459c9be33fee3fcf56d2')], usage=RequestUsage(input_tokens=3366, output_tokens=178, details={'thoughts_tokens': 159, 'text_prompt_tokens': 3366}), model_name='gemini-2.5-flash', timestamp=datetime.datetime(2025, 10, 30, 22, 35, 12, 264845, tzinfo=datetime.timezone.utc), provider_name='google-gla', provider_details={'finish_reason': 'STOP'}, provider_response_id='IOgDaYviB-fA4-EPp7D94A4', finish_reason='stop'),\n",
       " ModelRequest(parts=[ToolReturnPart(tool_name='text_search', content=[{'start': 4000, 'chunk': \"ccess to external drives)\\n-   New `OWS` group (collation of available map server connections)\\n-   Open a second browser (`View -> Panels -> Browser (2)`) for drag-n-drop interactions between browser panels\\n-   Icons now sorted by item group type (filesystem, databases, map servers)\\n-   Layer `Properties` now have better visual layout\\n\\n![image8](images/changelog-2.0_browser.png)\\n\\n## Data Providers\\n\\n### Feature: Raster Data Provider overhaul\\n\\nThe raster data provider system has been completely overhauled. One of the best new features stemming from this work is the ability to \\\\'Layer -\\\\> Save As\\\\...\\\\' to save any raster layer as a new layer. In the process you can clip, resample, and reproject the layer to a new Coordinate Reference System. You can also save a raster layer as a rendered image so if you for example have single band raster that you have applied a colour palette to, you can save the rendered layer out to a georeferenced RGB layer.\\n\\n![image9](images/Selection_017.png)\\n\\n### Feature: Oracle Spatial support\\n\\nQGIS 2.0 now includes Oracle Spatial support.\\n\\n![image10](images/oracle.png)\\n\\n### Feature: Web Coverage Service provider added\\n\\nQGIS now provides native support for Web Coverage Service layers - the process for adding WCS is similar to adding a WMS layer or WFS layer.\\n\\n### Feature: Raster 2% cumulative cut by default\\n\\nMany raster imagery products have a large number of outliers which result in images having a washed out appearance. QGIS 2.0 intoduces much more fine grained control over the rendering behaviour of rasters, including using a 2% - 98% percent cumulative cut by default when determining the colour space for the image. The image here shows QGIS 1.8 (left) versus QGIS 2.0 (right) when rendering the same image with default settings.\\n\\n![image11](images/Selection_023.png)\\n\\n### Feature: WMS identify format\\n\\nIt is now possible to select the format of the identify tool result for WMS layers if multiple known formats are supported by the server. The sup\", 'title': 'Changelog for QGIS 2.0', 'draft': False, 'HasBanner': False, 'sidebar': True, 'releaseDate': '2013-09-09', 'section': 'project', 'type': 'visual-changelog', 'filename': 'QGIS-Website-main/content/project/visual-changelogs/visualchangelog200/index.md'}, {'start': 28000, 'chunk': \"y inputs for models\\n\\nThis feature was funded by [North Road](http://north-road.com)\\n\\nThis feature was developed by [Nyall Dawson (North Road)](http://north-road.com)\\n\\n### Feature: Flagging algorithms with known issues\\n\\nBy default, we now hide 3rd party algorithms with known issues from the Processing toolbox, helping you avoid frustration (or misleading results) when running these algorithms. A new setting in the Processing options screen allows these algorithms to be shown, but they will be highlighted in the toolbox with a warning icon. Use at your own risk!\\n\\nThis feature was funded by [North Road](http://north-road.com)\\n\\nThis feature was developed by [Nyall Dawson (North Road)](http://north-road.com)\\n\\n### Feature: Raster Boolean logical OR/AND algorithms\\n\\nIn version 3.8 we\\\\'ve added new algorithms which calculate the boolean OR or AND for a set of input rasters. For AND, if all of the input rasters have a non-zero value for a pixel, that pixel will be set to 1 in the output raster, otherwise it will be set to 0. For OR, if ANY of the input rasters have a non-zero value for a pixel, that pixel will be set to 1 in the output raster, else 0.\\n\\nA reference layer parameter allows you to specify an existing raster layer to use as a reference when creating the output raster. The output raster will have the same extent, CRS, and pixel dimensions as this layer.\\n\\nBy default, a nodata pixel in ANY of the input layers will result in a nodata pixel in the output raster. If you check the \\\\'Treat nodata values as false\\\\' option, then nodata inputs will be treated the same as a 0 input value.\\n\\nThese new algorithms make for much simpler raster boolean logic calculation, without the complexity of using the raster calculator. They are also dynamically scalable to any number of input rasters (unlike the raster calculator), so are much more flexible when used within your Processing models.\\n\\nThis feature was funded by SMEC/SJ\\n\\nThis feature was developed by [Nyall Dawson (North Road)](h\", 'title': 'Changelog for QGIS 3.8', 'draft': False, 'HasBanner': False, 'sidebar': True, 'releaseDate': '2019-06-21', 'section': 'project', 'type': 'visual-changelog', 'filename': 'QGIS-Website-main/content/project/visual-changelogs/visualchangelog38/index.md'}, {'start': 69000, 'chunk': \"(https://github.com/pblottiere)\\n\\n### Feature: Add support for user profiles\\n\\nAll user settings/plugins, etc are now loaded from the app data location for each platform and no longer .qgis3/2. Settings and plugins in each profile are now isolated from each other.\\n\\nThis allows for different runtime setups depending on what the user needs, e.g test, prod, demo, etc\\n\\nProfile menu allows for switching between profiles or creating new ones.\\n\\n![image111](images/entries/thumbnails/82d90b2a02b84584279b5e2b75774631a0cd4a44.jpeg.400x300_q85_crop.jpg)\\n\\nThis feature was developed by [Nathan Woodrow](https://github.com/NathanW2)\\n\\n## Browser\\n\\n### Feature: Drag\\\\'n\\\\'drop layers from layer tree view to browser dock\\n\\nMakes it easy to e.g. store your temporary layers in PostGIS\\n\\nThis feature was developed by Martin Dobias\\n\\n### Feature: Standalone QGIS Browser application removed\\n\\nWe have removed the standalone QGIS Browser application that shipped with QGIS 2.x. This application had poor user uptake and represented a maintenance overhead that we do not wish to continue with in the 3.0 code base.\\n\\n## Data Providers\\n\\n### Feature: New unified \\\\'add layer\\\\' dialog\\n\\nYou can now use a single dialog to add a huge variety of data formats to QGIS.\\n\\n![image114](images/entries/thumbnails/d81a5fba0df198b53ef60293ade556125499e5e8.png.400x300_q85_crop.png)\\n\\nThis feature was developed by [Alessandro Pasotti](https://www.itopen.it)\\n\\n### Feature: GeoPackage\\n\\n-   processing uses pkg by default\\n-   save as uses pkg by default\\n-   create new layer uses pkg by default\\n-   browser drag and drop import layers\\n\\nThis feature was developed by Alessandro Pasotti\\n\\n### Feature: Support all GDAL writable raster formats for \\\\'Save as\\\\' dialog on raster layers\\n\\nThis feature was developed by Nyall Dawson\\n\\n### Feature: Support for Z/M geometries in gpkg, spatialite and memory layer provider\\n\\nSupport for Z dimension and M values was added to QGIS\\\\' gpkg, spatialite and memory layer provider. the option to add Z and M di\", 'title': 'Changelog for QGIS 3.0', 'draft': False, 'HasBanner': False, 'sidebar': True, 'releaseDate': '2018-02-23', 'section': 'project', 'type': 'visual-changelog', 'filename': 'QGIS-Website-main/content/project/visual-changelogs/visualchangelog30/index.md'}, {'start': 29000, 'chunk': \"otherwise it will be set to 0. For OR, if ANY of the input rasters have a non-zero value for a pixel, that pixel will be set to 1 in the output raster, else 0.\\n\\nA reference layer parameter allows you to specify an existing raster layer to use as a reference when creating the output raster. The output raster will have the same extent, CRS, and pixel dimensions as this layer.\\n\\nBy default, a nodata pixel in ANY of the input layers will result in a nodata pixel in the output raster. If you check the \\\\'Treat nodata values as false\\\\' option, then nodata inputs will be treated the same as a 0 input value.\\n\\nThese new algorithms make for much simpler raster boolean logic calculation, without the complexity of using the raster calculator. They are also dynamically scalable to any number of input rasters (unlike the raster calculator), so are much more flexible when used within your Processing models.\\n\\nThis feature was funded by SMEC/SJ\\n\\nThis feature was developed by [Nyall Dawson (North Road)](http://north-road.com)\\n\\n### Feature: New input parameter types for Print Layouts and Print Layout Items\\n\\nBy adding new parameter types for Print Layouts and Print Layout items, we\\\\'ve opened up QGIS 3.8 to a whole new world of Processing algorithms which operate on print layouts. These new parameter types allow for creation of Processing algorithms and graphical models which prompt users to select a print layout and/or an item on the layout when run.\\n\\nThis feature was funded by SMEC/SJ\\n\\nThis feature was developed by [Nyall Dawson (North Road)](http://north-road.com)\\n\\n### Feature: New parameter type for Map Scales\\n\\nWe\\\\'ve added a new parameter type specifically for map scales, QgsProcessingParameterScale. Scale values are evaluated using self.parameterAsDouble, which return the map scale denominator (matching the standard in other parts of the QGIS API).\\n\\nScale parameters are displayed to users using the standard QgsScaleWidget, which includes the combo box of predefined scales and a sho\", 'title': 'Changelog for QGIS 3.8', 'draft': False, 'HasBanner': False, 'sidebar': True, 'releaseDate': '2019-06-21', 'section': 'project', 'type': 'visual-changelog', 'filename': 'QGIS-Website-main/content/project/visual-changelogs/visualchangelog38/index.md'}, {'start': 3000, 'chunk': \"e code.\\n\\n![image6](images/changelog-2.0_sys-env-options.png)\\n\\n### Feature: User-defined zoom scales\\n\\nA listing of zoom scales can now be configured for the application and optionally overridden per project. The list will show up in the `Scale` popup combo box in the main window status bar, allowing for quick access to known scales for efficiently viewing and working with the current data sources. Defined scales can be exported to an XML file that can be imported into other projects or another QGIS application.\\n\\n![image7](images/changelog-2.0_predefined-scales.png)\\n\\n## Browser\\n\\n### Feature: Improvements to in-app browser panel\\n\\n-   Directories can be filtered by wildcard or regex expressions\\n-   New `Project home` (parent directory of current project)\\n-   View `Properties` of the selected directory in a dialog\\n-   Choose which directories to `Fast scan`\\n-   Choose to `Add a directory` directly to `Favourites` via filesystem browse dialog\\n-   New `/Volumes` on Mac (hidden directory for access to external drives)\\n-   New `OWS` group (collation of available map server connections)\\n-   Open a second browser (`View -> Panels -> Browser (2)`) for drag-n-drop interactions between browser panels\\n-   Icons now sorted by item group type (filesystem, databases, map servers)\\n-   Layer `Properties` now have better visual layout\\n\\n![image8](images/changelog-2.0_browser.png)\\n\\n## Data Providers\\n\\n### Feature: Raster Data Provider overhaul\\n\\nThe raster data provider system has been completely overhauled. One of the best new features stemming from this work is the ability to \\\\'Layer -\\\\> Save As\\\\...\\\\' to save any raster layer as a new layer. In the process you can clip, resample, and reproject the layer to a new Coordinate Reference System. You can also save a raster layer as a rendered image so if you for example have single band raster that you have applied a colour palette to, you can save the rendered layer out to a georeferenced RGB layer.\\n\\n![image9](images/Selection_017.png)\\n\\n### Fe\", 'title': 'Changelog for QGIS 2.0', 'draft': False, 'HasBanner': False, 'sidebar': True, 'releaseDate': '2013-09-09', 'section': 'project', 'type': 'visual-changelog', 'filename': 'QGIS-Website-main/content/project/visual-changelogs/visualchangelog200/index.md'}], tool_call_id='pyd_ai_925ed7908881459c9be33fee3fcf56d2', timestamp=datetime.datetime(2025, 10, 30, 22, 35, 12, 277582, tzinfo=datetime.timezone.utc))], instructions=\"You are a helpful assistant for QGIS software course. \\n\\nUse the search tool to find relevant information from the course materials before answering questions.\\n\\nIf you can find specific information through search, use it to provide accurate answers.\\nIf the search doesn't return relevant results, let the user know and provide general guidance.\"),\n",
       " ModelResponse(parts=[ThinkingPart(content='', signature='CvwGAdHtim+3LC4RYVrB/jc+EWz2gB5gJUoe6nDQVGh0blhe6xD5mxkMrG+6lv8fw0O++Q6k7//T2jnaZXc2SirJOMKMpmP0JU/hev8egEPYGl55WHlRrg7uv7L/HM2+klnGWPX4a5ubYV1AksCzv+EveKeubIrunWO4h/rgnv9/fYA6RRTj0uRxWN+/W26ro24bVue1TLs/Eu6HiO7Pm8WMvks8v/H2FfGguj41J3ailf8SQIoVBTCR7alwZh5tf4ToGZB4bcHbtsGL4JymNyPmB0M+sStJfBNFJu/mzZ7SwlDiW1LAwjk4zVnQNHdqF9TThHsSmP4KBl2PSt/FXkk//eRLHrp55y0O5UJr2/rjFtXbEKNFq13T09JhHK/Frx5of16NCejobE/UlDVaoTvI3DDDxfh82PT64XroagzmXTeskpmv8z5GaYL8XabP/L4APT3lLIIYKMOL0YTD3eEgiQeYiD5kuxsKDO9R9n4GNrCpzgTdxKgeCibK4kqpKnI94FOGLyg2Q4rprn9Z7h8m/qLJ8upF2hVDk/FFr1Vw/7GPfxcURNVcOTpmjv7OFMyQ6DcpO4ctbF+KUWk5FF6ht3C5b8CBDAPO0dqH9f2EkLlQRCdzp4/tpL1IzXzMwzN4uFR0/sqShPBB3ClyofB4Bm0IrXvWeGW5sl0qnz2s3AzfWX835zIkFZH7DKLDQ1zitqZh2Ij1k5uJPQKEFLxLJRGmasEu/bkOQZ6hYc8nbaUlus5bPLkE5e5y2f6T68IHt6dq04W/gvFSbMg1ihVIZ4b51J4JFiggS1adbwaRFJ2yOX5VrXz/BXLPMIDo8SEWB42pmk1ZV+zf74UgKn4ZtQl/4EDPxZC+n1834IwRQkWmvjDvkeQEsWjDZGa+dvXlSM2JMJqYX6FsK4ecALqMyKPz6knB7l3nZ8SUilL+8UeoxNHiVDIwgaJ4znY0hFEJeLN+L7/GA0RzcwXY16lvOL0XtP+KoMmAMmawSqOdmOPZi+o898Qs4pxY1ThV0Uq5QckzHiKeCEov6tdJaAtQfg24dbgQGRyR6dSLeG57jYvr7dvNA3vuCFob19W+el0WHfIg/+W8Erp13/CcYILKuu43XAxo+z6EVJnIXgV0zJ4dKlmcz5DTjq41zzMv6CJseBVjKeN19gp1MJpk4WDdxGfpRIdKbpCYKUZ3VA==', provider_name='google-gla'), TextPart(content='To load a raster layer in QGIS, you typically use the \"Layer\" menu. Here\\'s a general approach:\\n\\n1.  Open QGIS.\\n2.  Go to the **Layer** menu in the top toolbar.\\n3.  Select **Add Layer**.\\n4.  Choose **Add Raster Layer...** from the submenu.\\n5.  A new window will open, allowing you to browse your computer and select the raster file you wish to load.\\n\\nIn newer versions of QGIS (like 3.0 and later), there\\'s a unified \"Add Layer\" dialog which might simplify the process further, allowing you to add various data formats from a single interface.')], usage=RequestUsage(input_tokens=6530, cache_read_tokens=2796, output_tokens=353, details={'cached_content_tokens': 2796, 'thoughts_tokens': 209, 'text_prompt_tokens': 6530, 'text_cache_tokens': 2796}), model_name='gemini-2.5-flash', timestamp=datetime.datetime(2025, 10, 30, 22, 35, 15, 158590, tzinfo=datetime.timezone.utc), provider_name='google-gla', provider_details={'finish_reason': 'STOP'}, provider_response_id='I-gDaZmgAd39juMP_qHsgAI', finish_reason='stop')]"
      ]
     },
     "execution_count": 25,
     "metadata": {},
     "output_type": "execute_result"
    }
   ],
   "source": [
    "result.new_messages()"
   ]
  }
 ],
 "metadata": {
  "kernelspec": {
   "display_name": "Python 3 (ipykernel)",
   "language": "python",
   "name": "python3"
  },
  "language_info": {
   "codemirror_mode": {
    "name": "ipython",
    "version": 3
   },
   "file_extension": ".py",
   "mimetype": "text/x-python",
   "name": "python",
   "nbconvert_exporter": "python",
   "pygments_lexer": "ipython3",
   "version": "3.12.7"
  }
 },
 "nbformat": 4,
 "nbformat_minor": 5
}
